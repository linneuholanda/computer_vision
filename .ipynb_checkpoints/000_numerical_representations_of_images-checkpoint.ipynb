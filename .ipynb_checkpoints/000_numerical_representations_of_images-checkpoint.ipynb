{
 "cells": [
  {
   "cell_type": "markdown",
   "metadata": {},
   "source": [
    "# Numerical Representation of images\n",
    "In this notebook we study how images are represented as arrays of numbers in the computer."
   ]
  },
  {
   "cell_type": "markdown",
   "metadata": {},
   "source": [
    "## Importing modules"
   ]
  },
  {
   "cell_type": "code",
   "execution_count": 1,
   "metadata": {},
   "outputs": [],
   "source": [
    "import numpy as np\n",
    "import matplotlib.pyplot as plt\n",
    "import matplotlib.image as mpimg\n",
    "import cv2\n",
    "import requests\n",
    "import os\n",
    "import shutil\n",
    "from tqdm import tqdm\n",
    "import zipfile"
   ]
  },
  {
   "cell_type": "markdown",
   "metadata": {},
   "source": [
    "## Fetching the Tiny ImageNet data set\n",
    "\n",
    "In this notebook we shall use the [Tiny ImageNet data set](https://tiny-imagenet.herokuapp.com/) to illustrate how images are stored and processed in computers. As explained in the linked web page, this data set is smaller version of the [ImageNet](http://www.image-net.org/) data set with 500 training, 50 validation and 50 test images of 200 represented classes. In this notebook we use this data set to the basic elements of image representation by computers. "
   ]
  },
  {
   "cell_type": "markdown",
   "metadata": {},
   "source": [
    "#### Generating tree structure"
   ]
  },
  {
   "cell_type": "code",
   "execution_count": 2,
   "metadata": {},
   "outputs": [],
   "source": [
    "def generate_tree(generate_dirs,overwrite=False):\n",
    "    if overwrite:\n",
    "        pbar = tqdm(generate_dirs)\n",
    "        for d in pbar:\n",
    "            if os.path.isdir(d):\n",
    "                pbar.set_description(f\"Removing directory {d}\")\n",
    "                shutil.rmtree(d)\n",
    "            else: \n",
    "                pbar.set_description(f\"Directory {d} does not exist. Skipping.\")\n",
    "    pbar = tqdm(generate_dirs)    \n",
    "    for d in pbar:\n",
    "        if not os.path.isdir(d):\n",
    "            pbar.set_description(f\"Generating directory {d}\")\n",
    "            os.mkdir(d)\n",
    "        else:\n",
    "            pbar.set_description(f\"Directory {d} already exists. Skipping\")"
   ]
  },
  {
   "cell_type": "code",
   "execution_count": 3,
   "metadata": {},
   "outputs": [
    {
     "name": "stderr",
     "output_type": "stream",
     "text": [
      "Generating directory /home/rio/data_sets/tiny_imagenet: 100%|██████████| 2/2 [00:00<00:00, 815.30it/s]\n"
     ]
    }
   ],
   "source": [
    "parent_dir = \"/home/rio/data_sets\"\n",
    "tiny_imagenet_dir = os.path.join(parent_dir, \"tiny_imagenet\")\n",
    "generate_dirs = [parent_dir,tiny_imagenet_dir]\n",
    "overwrite=False\n",
    "generate_tree(generate_dirs,overwrite)"
   ]
  },
  {
   "cell_type": "markdown",
   "metadata": {},
   "source": [
    "#### Downloading and extracting data\n"
   ]
  },
  {
   "cell_type": "code",
   "execution_count": 4,
   "metadata": {},
   "outputs": [],
   "source": [
    "def fetch_data(url, save_path, unzip_path,chunk_size=128):\n",
    "    r = requests.get(url, stream=True)\n",
    "    with open(save_path, 'wb') as fd:\n",
    "        pbar = tqdm(r.iter_content(chunk_size=chunk_size),desc=f\"Downloading data to {save_path}\")\n",
    "        for chunk in pbar:\n",
    "            fd.write(chunk)\n",
    "    with zipfile.ZipFile(save_path, 'r') as zip_file:\n",
    "        pbar = tqdm(zip_file.namelist(),total=len(zip_file.namelist()),desc = f\"Extracting to {unzip_path}\")\n",
    "        for file in pbar:\n",
    "            zip_file.extract(member=file, path=unzip_path)\n",
    "\n",
    "        # Extract each file to another directory\n",
    "        # If you want to extract to current working directory, don't specify path\n",
    "        #zip_file.extract(member=file, path=directory)\n",
    "        #print(f\"Extracting to {unzip_path}\")\n",
    "        #zip_ref.extractall(unzip_path)\n",
    "    \n",
    "            "
   ]
  },
  {
   "cell_type": "code",
   "execution_count": 5,
   "metadata": {},
   "outputs": [
    {
     "name": "stderr",
     "output_type": "stream",
     "text": [
      "Downloading data to /home/rio/data_sets/tiny_imagenet/tiny-imagenet-200.zip: 1938282it [00:47, 40446.39it/s]\n",
      "Extracting to /home/rio/data_sets/tiny_imagenet: 100%|██████████| 120609/120609 [00:08<00:00, 13929.20it/s]"
     ]
    },
    {
     "name": "stdout",
     "output_type": "stream",
     "text": [
      "CPU times: user 30.3 s, sys: 3.68 s, total: 34 s\n",
      "Wall time: 58.2 s\n"
     ]
    },
    {
     "name": "stderr",
     "output_type": "stream",
     "text": [
      "\n"
     ]
    }
   ],
   "source": [
    "%%time\n",
    "tiny_imagenet_url = \"http://cs231n.stanford.edu/tiny-imagenet-200.zip\"\n",
    "save_path = os.path.join(tiny_imagenet_dir, \"tiny-imagenet-200.zip\")\n",
    "unzip_path = os.path.join(tiny_imagenet_dir)\n",
    "fetch_data(tiny_imagenet_url, save_path, unzip_path,chunk_size=128)"
   ]
  },
  {
   "cell_type": "markdown",
   "metadata": {},
   "source": [
    "## Loading and displaying images\n",
    "\n",
    "Let us start "
   ]
  }
 ],
 "metadata": {
  "kernelspec": {
   "display_name": "computer_vision",
   "language": "python",
   "name": "computer_vision"
  },
  "language_info": {
   "codemirror_mode": {
    "name": "ipython",
    "version": 3
   },
   "file_extension": ".py",
   "mimetype": "text/x-python",
   "name": "python",
   "nbconvert_exporter": "python",
   "pygments_lexer": "ipython3",
   "version": "3.8.5"
  }
 },
 "nbformat": 4,
 "nbformat_minor": 4
}
